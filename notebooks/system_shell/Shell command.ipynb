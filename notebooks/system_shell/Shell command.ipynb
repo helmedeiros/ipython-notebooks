{
 "cells": [
  {
   "cell_type": "code",
   "execution_count": 2,
   "metadata": {
    "collapsed": false
   },
   "outputs": [
    {
     "data": {
      "text/plain": [
       "u'/Users/hmedeiro/Projects/python/IPython/ipython-notebooks/notebooks/system_shell'"
      ]
     },
     "execution_count": 2,
     "metadata": {},
     "output_type": "execute_result"
    }
   ],
   "source": [
    "pwd"
   ]
  },
  {
   "cell_type": "code",
   "execution_count": 3,
   "metadata": {
    "collapsed": false
   },
   "outputs": [
    {
     "name": "stdout",
     "output_type": "stream",
     "text": [
      "/Users/hmedeiro/Projects/python/IPython/ipython-notebooks/notebooks\n"
     ]
    }
   ],
   "source": [
    "cd .."
   ]
  },
  {
   "cell_type": "code",
   "execution_count": 8,
   "metadata": {
    "collapsed": false
   },
   "outputs": [
    {
     "name": "stdout",
     "output_type": "stream",
     "text": [
      "PING www.bbc.net.uk (212.58.244.69): 56 data bytes\n",
      "64 bytes from 212.58.244.69: icmp_seq=0 ttl=48 time=251.377 ms\n",
      "64 bytes from 212.58.244.69: icmp_seq=1 ttl=48 time=314.236 ms\n",
      "64 bytes from 212.58.244.69: icmp_seq=2 ttl=48 time=248.232 ms\n",
      "64 bytes from 212.58.244.69: icmp_seq=3 ttl=48 time=455.628 ms\n",
      "64 bytes from 212.58.244.69: icmp_seq=4 ttl=48 time=371.646 ms\n",
      "64 bytes from 212.58.244.69: icmp_seq=5 ttl=48 time=288.928 ms\n",
      "64 bytes from 212.58.244.69: icmp_seq=6 ttl=48 time=246.979 ms\n",
      "64 bytes from 212.58.244.69: icmp_seq=7 ttl=48 time=432.464 ms\n",
      "64 bytes from 212.58.244.69: icmp_seq=8 ttl=48 time=350.705 ms\n",
      "64 bytes from 212.58.244.69: icmp_seq=9 ttl=48 time=269.055 ms\n",
      "64 bytes from 212.58.244.69: icmp_seq=10 ttl=48 time=493.559 ms\n",
      "64 bytes from 212.58.244.69: icmp_seq=11 ttl=48 time=413.500 ms\n",
      "64 bytes from 212.58.244.69: icmp_seq=12 ttl=48 time=246.094 ms\n",
      "64 bytes from 212.58.244.69: icmp_seq=13 ttl=48 time=558.319 ms\n",
      "64 bytes from 212.58.244.69: icmp_seq=14 ttl=48 time=463.811 ms\n",
      "64 bytes from 212.58.244.69: icmp_seq=15 ttl=48 time=393.008 ms\n",
      "64 bytes from 212.58.244.69: icmp_seq=16 ttl=48 time=314.158 ms\n",
      "64 bytes from 212.58.244.69: icmp_seq=17 ttl=48 time=542.179 ms\n",
      "64 bytes from 212.58.244.69: icmp_seq=18 ttl=48 time=462.563 ms\n",
      "64 bytes from 212.58.244.69: icmp_seq=19 ttl=48 time=372.909 ms\n",
      "64 bytes from 212.58.244.69: icmp_seq=20 ttl=48 time=298.148 ms\n",
      "64 bytes from 212.58.244.69: icmp_seq=21 ttl=48 time=522.718 ms\n",
      "64 bytes from 212.58.244.69: icmp_seq=22 ttl=48 time=246.812 ms\n",
      "64 bytes from 212.58.244.69: icmp_seq=23 ttl=48 time=247.847 ms\n",
      "64 bytes from 212.58.244.69: icmp_seq=24 ttl=48 time=274.966 ms\n",
      "64 bytes from 212.58.244.69: icmp_seq=25 ttl=48 time=499.898 ms\n",
      "64 bytes from 212.58.244.69: icmp_seq=26 ttl=48 time=420.273 ms\n",
      "64 bytes from 212.58.244.69: icmp_seq=27 ttl=48 time=304.556 ms\n",
      "64 bytes from 212.58.244.69: icmp_seq=28 ttl=48 time=260.426 ms\n",
      "64 bytes from 212.58.244.69: icmp_seq=29 ttl=48 time=486.500 ms\n",
      "^C\n",
      "--- www.bbc.net.uk ping statistics ---\n",
      "31 packets transmitted, 30 packets received, 3.2% packet loss\n",
      "round-trip min/avg/max/stddev = 246.094/368.383/558.319/101.810 ms\n",
      "\n"
     ]
    }
   ],
   "source": [
    "!ping www.bbc.co.uk"
   ]
  },
  {
   "cell_type": "code",
   "execution_count": 15,
   "metadata": {
    "collapsed": false
   },
   "outputs": [],
   "source": [
    "lines = !ls -l"
   ]
  },
  {
   "cell_type": "code",
   "execution_count": 28,
   "metadata": {
    "collapsed": false
   },
   "outputs": [
    {
     "data": {
      "text/plain": [
       "['total 0', 'drwxr-xr-x+ 4 hmedeiro  staff  136 Jun 24 22:18 print']"
      ]
     },
     "execution_count": 28,
     "metadata": {},
     "output_type": "execute_result"
    }
   ],
   "source": [
    "printLine = lines.grep('system',prune=1)\n",
    "printLine"
   ]
  },
  {
   "cell_type": "code",
   "execution_count": 29,
   "metadata": {
    "collapsed": false
   },
   "outputs": [
    {
     "data": {
      "text/plain": [
       "'print'"
      ]
     },
     "execution_count": 29,
     "metadata": {},
     "output_type": "execute_result"
    }
   ],
   "source": [
    "printLine.fields(8).s"
   ]
  },
  {
   "cell_type": "code",
   "execution_count": 32,
   "metadata": {
    "collapsed": false
   },
   "outputs": [
    {
     "data": {
      "text/plain": [
       "['total 0', 'drwxr-xr-x+ 4 hmedeiro  staff  136 Jun 24 22:29 system_shell']"
      ]
     },
     "execution_count": 32,
     "metadata": {},
     "output_type": "execute_result"
    }
   ],
   "source": [
    "systemLine = lines.grep('print',prune=1)\n",
    "systemLine"
   ]
  }
 ],
 "metadata": {
  "kernelspec": {
   "display_name": "Python 2",
   "language": "python",
   "name": "python2"
  },
  "language_info": {
   "codemirror_mode": {
    "name": "ipython",
    "version": 2
   },
   "file_extension": ".py",
   "mimetype": "text/x-python",
   "name": "python",
   "nbconvert_exporter": "python",
   "pygments_lexer": "ipython2",
   "version": "2.7.10"
  }
 },
 "nbformat": 4,
 "nbformat_minor": 0
}
