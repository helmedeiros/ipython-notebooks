{
 "cells": [
  {
   "cell_type": "code",
   "execution_count": 2,
   "metadata": {
    "collapsed": true
   },
   "outputs": [],
   "source": [
    "class User(object):\n",
    "    def __init__(self, name, username):\n",
    "        self.name = name\n",
    "        self.username = username"
   ]
  },
  {
   "cell_type": "code",
   "execution_count": 3,
   "metadata": {
    "collapsed": false
   },
   "outputs": [
    {
     "name": "stdout",
     "output_type": "stream",
     "text": [
      "<type 'type'>\n"
     ]
    }
   ],
   "source": [
    "import json\n",
    "def object_decoder(obj):\n",
    "    if '__type__' in obj and obj['__type__'] == 'User':\n",
    "        return User(obj['name'], obj['username'])\n",
    "    return obj\n",
    "\n",
    "json.loads('{\"__type__\": \"User\", \"name\": \"John Smith\", \"username\": \"jsmith\"}', object_hook=object_decoder)\n",
    "print user['name']\n",
    "print user['username']"
   ]
  }
 ],
 "metadata": {
  "kernelspec": {
   "display_name": "Python 2",
   "language": "python",
   "name": "python2"
  },
  "language_info": {
   "codemirror_mode": {
    "name": "ipython",
    "version": 2
   },
   "file_extension": ".py",
   "mimetype": "text/x-python",
   "name": "python",
   "nbconvert_exporter": "python",
   "pygments_lexer": "ipython2",
   "version": "2.7.10"
  }
 },
 "nbformat": 4,
 "nbformat_minor": 0
}
