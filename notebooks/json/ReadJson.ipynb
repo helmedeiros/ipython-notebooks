{
 "cells": [
  {
   "cell_type": "code",
   "execution_count": 1,
   "metadata": {
    "collapsed": true
   },
   "outputs": [],
   "source": [
    "import urllib\n",
    "import json\n",
    "import pandas as pd"
   ]
  },
  {
   "cell_type": "code",
   "execution_count": 11,
   "metadata": {
    "collapsed": false
   },
   "outputs": [
    {
     "data": {
      "text/html": [
       "<div>\n",
       "<table border=\"1\" class=\"dataframe\">\n",
       "  <thead>\n",
       "    <tr style=\"text-align: right;\">\n",
       "      <th></th>\n",
       "      <th>0</th>\n",
       "      <th>1</th>\n",
       "    </tr>\n",
       "  </thead>\n",
       "  <tbody>\n",
       "    <tr>\n",
       "      <th>0</th>\n",
       "      <td>type</td>\n",
       "      <td>FeatureCollection</td>\n",
       "    </tr>\n",
       "    <tr>\n",
       "      <th>1</th>\n",
       "      <td>features</td>\n",
       "      <td>[{u'geometry': {u'type': u'Point', u'coordinat...</td>\n",
       "    </tr>\n",
       "    <tr>\n",
       "      <th>2</th>\n",
       "      <td>bbox</td>\n",
       "      <td>[-151.9764, -36.3289, 10, 139.7931, 61.6623, 4...</td>\n",
       "    </tr>\n",
       "    <tr>\n",
       "      <th>3</th>\n",
       "      <td>metadata</td>\n",
       "      <td>{u'status': 200, u'count': 3, u'title': u'USGS...</td>\n",
       "    </tr>\n",
       "  </tbody>\n",
       "</table>\n",
       "</div>"
      ],
      "text/plain": [
       "          0                                                  1\n",
       "0      type                                  FeatureCollection\n",
       "1  features  [{u'geometry': {u'type': u'Point', u'coordinat...\n",
       "2      bbox  [-151.9764, -36.3289, 10, 139.7931, 61.6623, 4...\n",
       "3  metadata  {u'status': 200, u'count': 3, u'title': u'USGS..."
      ]
     },
     "execution_count": 11,
     "metadata": {},
     "output_type": "execute_result"
    }
   ],
   "source": [
    "url = 'http://earthquake.usgs.gov/earthquakes/feed/v1.0/summary/significant_week.geojson'\n",
    "d = json.loads(urllib.urlopen(url).read())\n",
    "\n",
    "data = pd.DataFrame(d.items())\n",
    "data"
   ]
  },
  {
   "cell_type": "code",
   "execution_count": 26,
   "metadata": {
    "collapsed": false
   },
   "outputs": [
    {
     "data": {
      "text/plain": [
       "[{u'geometry': {u'coordinates': [-151.9764, 61.6623, 115.3],\n",
       "   u'type': u'Point'},\n",
       "  u'id': u'ak11632992',\n",
       "  u'properties': {u'alert': u'green',\n",
       "   u'cdi': 5,\n",
       "   u'code': u'11632992',\n",
       "   u'detail': u'http://earthquake.usgs.gov/earthquakes/feed/v1.0/detail/ak11632992.geojson',\n",
       "   u'dmin': None,\n",
       "   u'felt': 847,\n",
       "   u'gap': None,\n",
       "   u'ids': u',at00nqgzxw,ak11632992,us10002lgv,gcmt20150624223220,',\n",
       "   u'mag': 5.8,\n",
       "   u'magType': u'ml',\n",
       "   u'mmi': 4.82,\n",
       "   u'net': u'ak',\n",
       "   u'nst': None,\n",
       "   u'place': u'103km W of Willow, Alaska',\n",
       "   u'rms': 0.59,\n",
       "   u'sig': 941,\n",
       "   u'sources': u',at,ak,us,gcmt,',\n",
       "   u'status': u'reviewed',\n",
       "   u'time': 1435185140000,\n",
       "   u'title': u'M 5.8 - 103km W of Willow, Alaska',\n",
       "   u'tsunami': 1,\n",
       "   u'type': u'earthquake',\n",
       "   u'types': u',cap,dyfi,general-link,geoserve,impact-link,losspager,moment-tensor,nearby-cities,origin,phase-data,shakemap,tectonic-summary,',\n",
       "   u'tz': -480,\n",
       "   u'updated': 1435268658925,\n",
       "   u'url': u'http://earthquake.usgs.gov/earthquakes/eventpage/ak11632992'},\n",
       "  u'type': u'Feature'},\n",
       " {u'geometry': {u'coordinates': [139.7931, 27.6685, 455.88],\n",
       "   u'type': u'Point'},\n",
       "  u'id': u'us10002l37',\n",
       "  u'properties': {u'alert': u'green',\n",
       "   u'cdi': 2.7,\n",
       "   u'code': u'10002l37',\n",
       "   u'detail': u'http://earthquake.usgs.gov/earthquakes/feed/v1.0/detail/us10002l37.geojson',\n",
       "   u'dmin': 2.201,\n",
       "   u'felt': 7,\n",
       "   u'gap': 19,\n",
       "   u'ids': u',us10002l37,gcmt20150623121829,',\n",
       "   u'mag': 6.3,\n",
       "   u'magType': u'mwp',\n",
       "   u'mmi': 3.98,\n",
       "   u'net': u'us',\n",
       "   u'nst': None,\n",
       "   u'place': u'248km WNW of Chichi-shima, Japan',\n",
       "   u'rms': 0.91,\n",
       "   u'sig': 613,\n",
       "   u'sources': u',us,gcmt,',\n",
       "   u'status': u'reviewed',\n",
       "   u'time': 1435061909940,\n",
       "   u'title': u'M 6.3 - 248km WNW of Chichi-shima, Japan',\n",
       "   u'tsunami': 0,\n",
       "   u'type': u'earthquake',\n",
       "   u'types': u',cap,dyfi,geoserve,losspager,moment-tensor,nearby-cities,origin,phase-data,shakemap,tectonic-summary,',\n",
       "   u'tz': 540,\n",
       "   u'updated': 1435166788937,\n",
       "   u'url': u'http://earthquake.usgs.gov/earthquakes/eventpage/us10002l37'},\n",
       "  u'type': u'Feature'},\n",
       " {u'geometry': {u'coordinates': [-73.8167, -36.3289, 10], u'type': u'Point'},\n",
       "  u'id': u'us10002ke8',\n",
       "  u'properties': {u'alert': u'green',\n",
       "   u'cdi': 4.3,\n",
       "   u'code': u'10002ke8',\n",
       "   u'detail': u'http://earthquake.usgs.gov/earthquakes/feed/v1.0/detail/us10002ke8.geojson',\n",
       "   u'dmin': 2.022,\n",
       "   u'felt': 52,\n",
       "   u'gap': 132,\n",
       "   u'ids': u',us10002ke8,gcmt20150620021006,',\n",
       "   u'mag': 6.4,\n",
       "   u'magType': u'mwp',\n",
       "   u'mmi': 4.17,\n",
       "   u'net': u'us',\n",
       "   u'nst': None,\n",
       "   u'place': u'76km NW of Talcahuano, Chile',\n",
       "   u'rms': 1.29,\n",
       "   u'sig': 653,\n",
       "   u'sources': u',us,gcmt,',\n",
       "   u'status': u'reviewed',\n",
       "   u'time': 1434766206420,\n",
       "   u'title': u'M 6.4 - 76km NW of Talcahuano, Chile',\n",
       "   u'tsunami': 0,\n",
       "   u'type': u'earthquake',\n",
       "   u'types': u',cap,dyfi,geoserve,losspager,moment-tensor,nearby-cities,origin,phase-data,shakemap,tectonic-summary,',\n",
       "   u'tz': -300,\n",
       "   u'updated': 1435252831944,\n",
       "   u'url': u'http://earthquake.usgs.gov/earthquakes/eventpage/us10002ke8'},\n",
       "  u'type': u'Feature'}]"
      ]
     },
     "execution_count": 26,
     "metadata": {},
     "output_type": "execute_result"
    }
   ],
   "source": [
    "features = d.items()[1][1]\n",
    "features"
   ]
  },
  {
   "cell_type": "code",
   "execution_count": 37,
   "metadata": {
    "collapsed": false
   },
   "outputs": [
    {
     "data": {
      "text/plain": [
       "{u'geometry': {u'coordinates': [-151.9764, 61.6623, 115.3], u'type': u'Point'},\n",
       " u'id': u'ak11632992',\n",
       " u'properties': {u'alert': u'green',\n",
       "  u'cdi': 5,\n",
       "  u'code': u'11632992',\n",
       "  u'detail': u'http://earthquake.usgs.gov/earthquakes/feed/v1.0/detail/ak11632992.geojson',\n",
       "  u'dmin': None,\n",
       "  u'felt': 847,\n",
       "  u'gap': None,\n",
       "  u'ids': u',at00nqgzxw,ak11632992,us10002lgv,gcmt20150624223220,',\n",
       "  u'mag': 5.8,\n",
       "  u'magType': u'ml',\n",
       "  u'mmi': 4.82,\n",
       "  u'net': u'ak',\n",
       "  u'nst': None,\n",
       "  u'place': u'103km W of Willow, Alaska',\n",
       "  u'rms': 0.59,\n",
       "  u'sig': 941,\n",
       "  u'sources': u',at,ak,us,gcmt,',\n",
       "  u'status': u'reviewed',\n",
       "  u'time': 1435185140000,\n",
       "  u'title': u'M 5.8 - 103km W of Willow, Alaska',\n",
       "  u'tsunami': 1,\n",
       "  u'type': u'earthquake',\n",
       "  u'types': u',cap,dyfi,general-link,geoserve,impact-link,losspager,moment-tensor,nearby-cities,origin,phase-data,shakemap,tectonic-summary,',\n",
       "  u'tz': -480,\n",
       "  u'updated': 1435268658925,\n",
       "  u'url': u'http://earthquake.usgs.gov/earthquakes/eventpage/ak11632992'},\n",
       " u'type': u'Feature'}"
      ]
     },
     "execution_count": 37,
     "metadata": {},
     "output_type": "execute_result"
    }
   ],
   "source": [
    "firstFeature = features[0]\n",
    "firstFeature"
   ]
  },
  {
   "cell_type": "code",
   "execution_count": 36,
   "metadata": {
    "collapsed": false
   },
   "outputs": [
    {
     "data": {
      "text/plain": [
       "{u'geometry': {u'coordinates': [139.7931, 27.6685, 455.88], u'type': u'Point'},\n",
       " u'id': u'us10002l37',\n",
       " u'properties': {u'alert': u'green',\n",
       "  u'cdi': 2.7,\n",
       "  u'code': u'10002l37',\n",
       "  u'detail': u'http://earthquake.usgs.gov/earthquakes/feed/v1.0/detail/us10002l37.geojson',\n",
       "  u'dmin': 2.201,\n",
       "  u'felt': 7,\n",
       "  u'gap': 19,\n",
       "  u'ids': u',us10002l37,gcmt20150623121829,',\n",
       "  u'mag': 6.3,\n",
       "  u'magType': u'mwp',\n",
       "  u'mmi': 3.98,\n",
       "  u'net': u'us',\n",
       "  u'nst': None,\n",
       "  u'place': u'248km WNW of Chichi-shima, Japan',\n",
       "  u'rms': 0.91,\n",
       "  u'sig': 613,\n",
       "  u'sources': u',us,gcmt,',\n",
       "  u'status': u'reviewed',\n",
       "  u'time': 1435061909940,\n",
       "  u'title': u'M 6.3 - 248km WNW of Chichi-shima, Japan',\n",
       "  u'tsunami': 0,\n",
       "  u'type': u'earthquake',\n",
       "  u'types': u',cap,dyfi,geoserve,losspager,moment-tensor,nearby-cities,origin,phase-data,shakemap,tectonic-summary,',\n",
       "  u'tz': 540,\n",
       "  u'updated': 1435166788937,\n",
       "  u'url': u'http://earthquake.usgs.gov/earthquakes/eventpage/us10002l37'},\n",
       " u'type': u'Feature'}"
      ]
     },
     "execution_count": 36,
     "metadata": {},
     "output_type": "execute_result"
    }
   ],
   "source": [
    "secondFeature = features[1]\n",
    "secondFeature"
   ]
  },
  {
   "cell_type": "code",
   "execution_count": 35,
   "metadata": {
    "collapsed": false
   },
   "outputs": [
    {
     "data": {
      "text/plain": [
       "{u'geometry': {u'coordinates': [-73.8167, -36.3289, 10], u'type': u'Point'},\n",
       " u'id': u'us10002ke8',\n",
       " u'properties': {u'alert': u'green',\n",
       "  u'cdi': 4.3,\n",
       "  u'code': u'10002ke8',\n",
       "  u'detail': u'http://earthquake.usgs.gov/earthquakes/feed/v1.0/detail/us10002ke8.geojson',\n",
       "  u'dmin': 2.022,\n",
       "  u'felt': 52,\n",
       "  u'gap': 132,\n",
       "  u'ids': u',us10002ke8,gcmt20150620021006,',\n",
       "  u'mag': 6.4,\n",
       "  u'magType': u'mwp',\n",
       "  u'mmi': 4.17,\n",
       "  u'net': u'us',\n",
       "  u'nst': None,\n",
       "  u'place': u'76km NW of Talcahuano, Chile',\n",
       "  u'rms': 1.29,\n",
       "  u'sig': 653,\n",
       "  u'sources': u',us,gcmt,',\n",
       "  u'status': u'reviewed',\n",
       "  u'time': 1434766206420,\n",
       "  u'title': u'M 6.4 - 76km NW of Talcahuano, Chile',\n",
       "  u'tsunami': 0,\n",
       "  u'type': u'earthquake',\n",
       "  u'types': u',cap,dyfi,geoserve,losspager,moment-tensor,nearby-cities,origin,phase-data,shakemap,tectonic-summary,',\n",
       "  u'tz': -300,\n",
       "  u'updated': 1435252831944,\n",
       "  u'url': u'http://earthquake.usgs.gov/earthquakes/eventpage/us10002ke8'},\n",
       " u'type': u'Feature'}"
      ]
     },
     "execution_count": 35,
     "metadata": {},
     "output_type": "execute_result"
    }
   ],
   "source": [
    "thirdFeature = features[2]\n",
    "thirdFeature"
   ]
  },
  {
   "cell_type": "code",
   "execution_count": null,
   "metadata": {
    "collapsed": true
   },
   "outputs": [],
   "source": []
  }
 ],
 "metadata": {
  "kernelspec": {
   "display_name": "Python 2",
   "language": "python",
   "name": "python2"
  },
  "language_info": {
   "codemirror_mode": {
    "name": "ipython",
    "version": 2
   },
   "file_extension": ".py",
   "mimetype": "text/x-python",
   "name": "python",
   "nbconvert_exporter": "python",
   "pygments_lexer": "ipython2",
   "version": "2.7.10"
  }
 },
 "nbformat": 4,
 "nbformat_minor": 0
}
