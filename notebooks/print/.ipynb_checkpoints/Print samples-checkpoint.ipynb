{
 "cells": [
  {
   "cell_type": "code",
   "execution_count": 3,
   "metadata": {
    "collapsed": false
   },
   "outputs": [
    {
     "name": "stdout",
     "output_type": "stream",
     "text": [
      "Hello World!\n"
     ]
    }
   ],
   "source": [
    "print(\"Hello World!\")"
   ]
  },
  {
   "cell_type": "code",
   "execution_count": 6,
   "metadata": {
    "collapsed": false
   },
   "outputs": [
    {
     "name": "stdout",
     "output_type": "stream",
     "text": [
      "Let's talk about Helio Medeiros.\n",
      "He's 1.80 meters tall.\n",
      "He's 74 Kilograms heavy.\n",
      "Actually that's not too heavy.\n",
      "He's got Brown eyes and Brown hair.\n",
      "His teeth are usually White depending on how much chocolate cake he eats.\n"
     ]
    }
   ],
   "source": [
    "my_name = 'Helio Medeiros'\n",
    "my_age = 30 # not a lie\n",
    "my_height = 1.80 # meters\n",
    "my_weight = 74 # Kg\n",
    "my_eyes = 'Brown'\n",
    "my_teeth = 'White'\n",
    "my_hair = 'Brown'\n",
    "\n",
    "print \"Let's talk about %s.\" % my_name\n",
    "print \"He's %.2f meters tall.\" % my_height\n",
    "print \"He's %d Kilograms heavy.\" % my_weight\n",
    "print \"Actually that's not too heavy.\"\n",
    "print \"He's got %s eyes and %s hair.\" % (my_eyes, my_hair)\n",
    "print \"His teeth are usually %s depending on how much chocolate cake he eats.\" % my_teeth"
   ]
  },
  {
   "cell_type": "code",
   "execution_count": 10,
   "metadata": {
    "collapsed": false
   },
   "outputs": [
    {
     "name": "stdout",
     "output_type": "stream",
     "text": [
      "If I add 30, 1.80, and 74 I get 105.80\n"
     ]
    }
   ],
   "source": [
    "print \"If I add %d, %.2f, and %d I get %.2f\" % (\n",
    "    my_age, my_height, my_weight, my_age + my_height + my_weight)"
   ]
  }
 ],
 "metadata": {
  "kernelspec": {
   "display_name": "Python 2",
   "language": "python",
   "name": "python2"
  },
  "language_info": {
   "codemirror_mode": {
    "name": "ipython",
    "version": 2
   },
   "file_extension": ".py",
   "mimetype": "text/x-python",
   "name": "python",
   "nbconvert_exporter": "python",
   "pygments_lexer": "ipython2",
   "version": "2.7.10"
  }
 },
 "nbformat": 4,
 "nbformat_minor": 0
}
